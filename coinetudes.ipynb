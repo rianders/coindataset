{
  "nbformat": 4,
  "nbformat_minor": 0,
  "metadata": {
    "colab": {
      "name": "coinetudes.ipynb",
      "provenance": [],
      "collapsed_sections": [
        "-uEDsy672uyX",
        "a_jf_qp_VJth",
        "jYBFT3FZr_T7"
      ],
      "toc_visible": true,
      "include_colab_link": true
    },
    "kernelspec": {
      "name": "python3",
      "display_name": "Python 3"
    },
    "accelerator": "GPU"
  },
  "cells": [
    {
      "cell_type": "markdown",
      "metadata": {
        "id": "view-in-github",
        "colab_type": "text"
      },
      "source": [
        "<a href=\"https://colab.research.google.com/github/ricklon/coindataset/blob/master/coinetudes.ipynb\" target=\"_parent\"><img src=\"https://colab.research.google.com/assets/colab-badge.svg\" alt=\"Open In Colab\"/></a>"
      ]
    },
    {
      "cell_type": "markdown",
      "metadata": {
        "id": "-uEDsy672uyX",
        "colab_type": "text"
      },
      "source": [
        "# Coin Experiments\n",
        "\n",
        "Photos of coins from the change basket layed out on 8.5 paper\n",
        "\n",
        "Photos uploaded to Google Photos\n",
        "\n",
        "Photos then downloaded from Google Photos\n",
        "\n",
        "Then uploaded to this notebook\n",
        "\n",
        "Create a data labels csv file\n",
        "\n",
        "Create and h5py file to store images and data labels\n",
        "\n",
        "Use Scikit Image to create more labels from original images\n",
        "\n",
        "Update h5py data set with new labels\n",
        "\n",
        "Do another round on data and data aumentation to the h5py data set\n",
        "\n",
        "Update the labels with the new augmented information\n",
        "\n",
        "Store the updated h5py with the new informat\n",
        "\n",
        "Next: Create machine learning problems to solve using the data set\n"
      ]
    },
    {
      "cell_type": "code",
      "metadata": {
        "id": "cqN5Od33V6P0",
        "colab_type": "code",
        "colab": {}
      },
      "source": [
        ""
      ],
      "execution_count": 0,
      "outputs": []
    },
    {
      "cell_type": "markdown",
      "metadata": {
        "id": "vCdBbPV5abx7",
        "colab_type": "text"
      },
      "source": [
        "There should be a way to wget or curl google drive zip files.\n",
        "\n",
        "Here's the coin photos:\n",
        "https://drive.google.com/open?id=15u5bXKbDphPsOlvSOavkTuaRDMGYox8s\n",
        "\n",
        "Spreadsheet of data labels\n",
        "https://docs.google.com/spreadsheets/d/1f0QnPKrwtZKRU9F07fjUllZxFkhSmke7KZQpRYen-nE/edit?usp=sharing\n"
      ]
    },
    {
      "cell_type": "code",
      "metadata": {
        "id": "ULwGRpNW3I0h",
        "colab_type": "code",
        "outputId": "b10e10ce-d3e8-414a-96f3-8634fd2f7bb2",
        "colab": {
          "base_uri": "https://localhost:8080/",
          "height": 124
        }
      },
      "source": [
        "from google.colab import drive\n",
        "drive.mount('/content/gdrive')\n"
      ],
      "execution_count": 1,
      "outputs": [
        {
          "output_type": "stream",
          "text": [
            "Go to this URL in a browser: https://accounts.google.com/o/oauth2/auth?client_id=947318989803-6bn6qk8qdgf4n4g3pfee6491hc0brc4i.apps.googleusercontent.com&redirect_uri=urn%3aietf%3awg%3aoauth%3a2.0%3aoob&response_type=code&scope=email%20https%3a%2f%2fwww.googleapis.com%2fauth%2fdocs.test%20https%3a%2f%2fwww.googleapis.com%2fauth%2fdrive%20https%3a%2f%2fwww.googleapis.com%2fauth%2fdrive.photos.readonly%20https%3a%2f%2fwww.googleapis.com%2fauth%2fpeopleapi.readonly\n",
            "\n",
            "Enter your authorization code:\n",
            "··········\n",
            "Mounted at /content/gdrive\n"
          ],
          "name": "stdout"
        }
      ]
    },
    {
      "cell_type": "code",
      "metadata": {
        "id": "cf5Qq_G4sAeX",
        "colab_type": "code",
        "colab": {
          "base_uri": "https://localhost:8080/",
          "height": 1000
        },
        "outputId": "dca4a591-cad7-4ac6-acac-974c0ab5c169"
      },
      "source": [
        "! ls\n",
        "! mkdir imgs\n",
        "! unzip \"/content/gdrive/My Drive/mldata/coins.zip\" -d imgs/\n",
        "! ls imgs/\n"
      ],
      "execution_count": 2,
      "outputs": [
        {
          "output_type": "stream",
          "text": [
            "gdrive\tsample_data\n",
            "Archive:  /content/gdrive/My Drive/mldata/coins.zip\n",
            "  inflating: imgs/IMG_20181123_115953.jpg  \n",
            "  inflating: imgs/IMG_20181123_115354.jpg  \n",
            "  inflating: imgs/IMG_20181123_114712.jpg  \n",
            "  inflating: imgs/IMG_20181123_114709.jpg  \n",
            "  inflating: imgs/IMG_20181123_114707.jpg  \n",
            "  inflating: imgs/IMG_20181123_114705.jpg  \n",
            "  inflating: imgs/IMG_20181123_114703.jpg  \n",
            "  inflating: imgs/IMG_20181123_114700.jpg  \n",
            "  inflating: imgs/IMG_20181123_114401.jpg  \n",
            "  inflating: imgs/IMG_20181123_114353.jpg  \n",
            "  inflating: imgs/IMG_20181123_114350.jpg  \n",
            "  inflating: imgs/IMG_20181123_114348.jpg  \n",
            "  inflating: imgs/IMG_20181123_114346.jpg  \n",
            "  inflating: imgs/IMG_20181123_114344.jpg  \n",
            "  inflating: imgs/IMG_20181123_114341.jpg  \n",
            "  inflating: imgs/IMG_20181123_113813.jpg  \n",
            "  inflating: imgs/IMG_20181123_113759.jpg  \n",
            "  inflating: imgs/IMG_20181123_113756.jpg  \n",
            "  inflating: imgs/IMG_20181123_113754.jpg  \n",
            "  inflating: imgs/IMG_20181123_113751.jpg  \n",
            "  inflating: imgs/IMG_20181123_113748.jpg  \n",
            "  inflating: imgs/IMG_20181123_113745.jpg  \n",
            "  inflating: imgs/IMG_20181123_113641.jpg  \n",
            "  inflating: imgs/IMG_20181123_113636.jpg  \n",
            "  inflating: imgs/IMG_20181123_113634.jpg  \n",
            "  inflating: imgs/IMG_20181123_113631.jpg  \n",
            "  inflating: imgs/IMG_20181123_113630.jpg  \n",
            "  inflating: imgs/IMG_20181123_113627.jpg  \n",
            "  inflating: imgs/IMG_20181123_113625.jpg  \n",
            "  inflating: imgs/IMG_20181123_113301.jpg  \n",
            "  inflating: imgs/IMG_20181123_113258.jpg  \n",
            "  inflating: imgs/IMG_20181123_113257.jpg  \n",
            "  inflating: imgs/IMG_20181123_113254.jpg  \n",
            "  inflating: imgs/IMG_20181123_113252.jpg  \n",
            "  inflating: imgs/IMG_20181123_113250.jpg  \n",
            "  inflating: imgs/IMG_20181123_113121.jpg  \n",
            "  inflating: imgs/IMG_20181123_113119.jpg  \n",
            "  inflating: imgs/IMG_20181123_113116.jpg  \n",
            "  inflating: imgs/IMG_20181123_113112.jpg  \n",
            "  inflating: imgs/IMG_20181123_113109.jpg  \n",
            "  inflating: imgs/IMG_20181123_113105.jpg  \n",
            "  inflating: imgs/IMG_20181123_112924.jpg  \n",
            "  inflating: imgs/IMG_20181123_112922.jpg  \n",
            "  inflating: imgs/IMG_20181123_112921.jpg  \n",
            "  inflating: imgs/IMG_20181123_112920.jpg  \n",
            "  inflating: imgs/IMG_20181123_112915.jpg  \n",
            "  inflating: imgs/IMG_20181123_112912.jpg  \n",
            "  inflating: imgs/IMG_20181123_112909.jpg  \n",
            "  inflating: imgs/IMG_20181123_112028.jpg  \n",
            "  inflating: imgs/IMG_20181123_112022.jpg  \n",
            "  inflating: imgs/IMG_20181123_112017.jpg  \n",
            "  inflating: imgs/IMG_20181123_112014.jpg  \n",
            "  inflating: imgs/IMG_20181123_112010.jpg  \n",
            "  inflating: imgs/IMG_20181123_112008.jpg  \n",
            "  inflating: imgs/IMG_20181123_112005.jpg  \n",
            "  inflating: imgs/IMG_20181123_112001.jpg  \n",
            "  inflating: imgs/IMG_20181123_111419.jpg  \n",
            "  inflating: imgs/IMG_20181123_111414.jpg  \n",
            "  inflating: imgs/IMG_20181123_111408.jpg  \n",
            "  inflating: imgs/IMG_20181123_111358.jpg  \n",
            "  inflating: imgs/IMG_20181123_111353.jpg  \n",
            "  inflating: imgs/IMG_20181123_111350.jpg  \n",
            "  inflating: imgs/IMG_20181123_111347.jpg  \n",
            "  inflating: imgs/IMG_20181123_110909.jpg  \n",
            "IMG_20181123_110909.jpg  IMG_20181123_112924.jpg  IMG_20181123_113751.jpg\n",
            "IMG_20181123_111347.jpg  IMG_20181123_113105.jpg  IMG_20181123_113754.jpg\n",
            "IMG_20181123_111350.jpg  IMG_20181123_113109.jpg  IMG_20181123_113756.jpg\n",
            "IMG_20181123_111353.jpg  IMG_20181123_113112.jpg  IMG_20181123_113759.jpg\n",
            "IMG_20181123_111358.jpg  IMG_20181123_113116.jpg  IMG_20181123_113813.jpg\n",
            "IMG_20181123_111408.jpg  IMG_20181123_113119.jpg  IMG_20181123_114341.jpg\n",
            "IMG_20181123_111414.jpg  IMG_20181123_113121.jpg  IMG_20181123_114344.jpg\n",
            "IMG_20181123_111419.jpg  IMG_20181123_113250.jpg  IMG_20181123_114346.jpg\n",
            "IMG_20181123_112001.jpg  IMG_20181123_113252.jpg  IMG_20181123_114348.jpg\n",
            "IMG_20181123_112005.jpg  IMG_20181123_113254.jpg  IMG_20181123_114350.jpg\n",
            "IMG_20181123_112008.jpg  IMG_20181123_113257.jpg  IMG_20181123_114353.jpg\n",
            "IMG_20181123_112010.jpg  IMG_20181123_113258.jpg  IMG_20181123_114401.jpg\n",
            "IMG_20181123_112014.jpg  IMG_20181123_113301.jpg  IMG_20181123_114700.jpg\n",
            "IMG_20181123_112017.jpg  IMG_20181123_113625.jpg  IMG_20181123_114703.jpg\n",
            "IMG_20181123_112022.jpg  IMG_20181123_113627.jpg  IMG_20181123_114705.jpg\n",
            "IMG_20181123_112028.jpg  IMG_20181123_113630.jpg  IMG_20181123_114707.jpg\n",
            "IMG_20181123_112909.jpg  IMG_20181123_113631.jpg  IMG_20181123_114709.jpg\n",
            "IMG_20181123_112912.jpg  IMG_20181123_113634.jpg  IMG_20181123_114712.jpg\n",
            "IMG_20181123_112915.jpg  IMG_20181123_113636.jpg  IMG_20181123_115354.jpg\n",
            "IMG_20181123_112920.jpg  IMG_20181123_113641.jpg  IMG_20181123_115953.jpg\n",
            "IMG_20181123_112921.jpg  IMG_20181123_113745.jpg\n",
            "IMG_20181123_112922.jpg  IMG_20181123_113748.jpg\n"
          ],
          "name": "stdout"
        }
      ]
    },
    {
      "cell_type": "code",
      "metadata": {
        "id": "NltavV7nfa5R",
        "colab_type": "code",
        "colab": {}
      },
      "source": [
        "! cp \"/content/gdrive/My Drive/mldata/coinlabels.csv\" ./imgs/"
      ],
      "execution_count": 0,
      "outputs": []
    },
    {
      "cell_type": "markdown",
      "metadata": {
        "id": "d5YjEBJsVQrD",
        "colab_type": "text"
      },
      "source": [
        "# Create an h5py data set with labels"
      ]
    },
    {
      "cell_type": "code",
      "metadata": {
        "id": "nQlvIHfSVIMg",
        "colab_type": "code",
        "colab": {}
      },
      "source": [
        "# Example from: https://www.kaggle.com/crawford/resize-and-save-images-as-hdf5-256x256\n",
        "\n",
        "import cv2\n",
        "import datetime as dt\n",
        "import h5py\n",
        "import matplotlib.pyplot as plt\n",
        "import matplotlib.pylab as plb\n",
        "import numpy as np\n",
        "import os\n",
        "import pandas as pd\n",
        "from glob import glob"
      ],
      "execution_count": 0,
      "outputs": []
    },
    {
      "cell_type": "code",
      "metadata": {
        "id": "FNsRUD7CVh2o",
        "colab_type": "code",
        "colab": {
          "base_uri": "https://localhost:8080/",
          "height": 539
        },
        "outputId": "c783f064-caa2-493a-8a2e-23e8c3f09431"
      },
      "source": [
        "def proc_images():\n",
        "    \"\"\"\n",
        "    Saves compressed, resized images as HDF5 datsets\n",
        "    Returns\n",
        "        data.h5, where each dataset is an image or class label\n",
        "        e.g. X23,y23 = image and corresponding class label\n",
        "    \"\"\"\n",
        "    start = dt.datetime.now()\n",
        "    # ../input/\n",
        "    PATH = os.path.abspath(os.path.join('.', 'imgs'))\n",
        "    # .\n",
        "    SOURCE_IMAGES = os.path.join(PATH, \".\")\n",
        "    # ../imgs/*.png\n",
        "    images = glob(os.path.join(SOURCE_IMAGES, \"*.jpg\"))\n",
        "    # Load labels\n",
        "    labels = pd.read_csv('./imgs/coinlabels.csv')\n",
        "    #print(labels)  \n",
        "    print(images)\n",
        "    \n",
        "    # Size of data\n",
        "    NUM_IMAGES = len(images)\n",
        "    HEIGHT = 3024//4\n",
        "    WIDTH = 4032//4\n",
        "    CHANNELS = 3\n",
        "    SHAPE = (HEIGHT, WIDTH, CHANNELS)\n",
        "    \n",
        "    with h5py.File('data.h5', 'w') as hf: \n",
        "      for i,img in enumerate(images):            \n",
        "          # Images\n",
        "          image = cv2.imread(img)\n",
        "          image = cv2.resize(image, (WIDTH,HEIGHT), interpolation=cv2.INTER_CUBIC)\n",
        "          imgs = hf.create_dataset(\n",
        "              name='coins',\n",
        "              data=image,\n",
        "              shape=(HEIGHT, WIDTH, CHANNELS),\n",
        "              maxshape=(HEIGHT, WIDTH, CHANNELS),\n",
        "              compression=\"gzip\",\n",
        "              compression_opts=9)\n",
        "          end=dt.datetime.now()\n",
        "          print(\"\\r\", i, \": \", (end-start).seconds, \"seconds\", end=\"\")\n",
        "            \n",
        "      # Labels\n",
        "      print(labels.shape)\n",
        "      base = os.path.basename(img)\n",
        "      lbls = hf.create_dataset(\n",
        "          name='labels',\n",
        "          shape= labels.shape,\n",
        "          maxshape=labels.shape,\n",
        "          compression=\"gzip\",\n",
        "          compression_opts=9)            \n",
        "      lbls = labels\n",
        "                "
      ],
      "execution_count": 13,
      "outputs": [
        {
          "output_type": "stream",
          "text": [
            "['/content/imgs/./IMG_20181123_113631.jpg', '/content/imgs/./IMG_20181123_113636.jpg', '/content/imgs/./IMG_20181123_113813.jpg', '/content/imgs/./IMG_20181123_113257.jpg', '/content/imgs/./IMG_20181123_113634.jpg', '/content/imgs/./IMG_20181123_113759.jpg', '/content/imgs/./IMG_20181123_113625.jpg', '/content/imgs/./IMG_20181123_114700.jpg', '/content/imgs/./IMG_20181123_113745.jpg', '/content/imgs/./IMG_20181123_113754.jpg', '/content/imgs/./IMG_20181123_110909.jpg', '/content/imgs/./IMG_20181123_112920.jpg', '/content/imgs/./IMG_20181123_112001.jpg', '/content/imgs/./IMG_20181123_113105.jpg', '/content/imgs/./IMG_20181123_114344.jpg', '/content/imgs/./IMG_20181123_113250.jpg', '/content/imgs/./IMG_20181123_114346.jpg', '/content/imgs/./IMG_20181123_113748.jpg', '/content/imgs/./IMG_20181123_114353.jpg', '/content/imgs/./IMG_20181123_114348.jpg', '/content/imgs/./IMG_20181123_114709.jpg', '/content/imgs/./IMG_20181123_114705.jpg', '/content/imgs/./IMG_20181123_113258.jpg', '/content/imgs/./IMG_20181123_113252.jpg', '/content/imgs/./IMG_20181123_113121.jpg', '/content/imgs/./IMG_20181123_112922.jpg', '/content/imgs/./IMG_20181123_112022.jpg', '/content/imgs/./IMG_20181123_114350.jpg', '/content/imgs/./IMG_20181123_115354.jpg', '/content/imgs/./IMG_20181123_111419.jpg', '/content/imgs/./IMG_20181123_112912.jpg', '/content/imgs/./IMG_20181123_113630.jpg', '/content/imgs/./IMG_20181123_113641.jpg', '/content/imgs/./IMG_20181123_113756.jpg', '/content/imgs/./IMG_20181123_112010.jpg', '/content/imgs/./IMG_20181123_111358.jpg', '/content/imgs/./IMG_20181123_112014.jpg', '/content/imgs/./IMG_20181123_112921.jpg', '/content/imgs/./IMG_20181123_113112.jpg', '/content/imgs/./IMG_20181123_112924.jpg', '/content/imgs/./IMG_20181123_113116.jpg', '/content/imgs/./IMG_20181123_111353.jpg', '/content/imgs/./IMG_20181123_114703.jpg', '/content/imgs/./IMG_20181123_114712.jpg', '/content/imgs/./IMG_20181123_113627.jpg', '/content/imgs/./IMG_20181123_112005.jpg', '/content/imgs/./IMG_20181123_112915.jpg', '/content/imgs/./IMG_20181123_112008.jpg', '/content/imgs/./IMG_20181123_112028.jpg', '/content/imgs/./IMG_20181123_114707.jpg', '/content/imgs/./IMG_20181123_113301.jpg', '/content/imgs/./IMG_20181123_113751.jpg', '/content/imgs/./IMG_20181123_111408.jpg', '/content/imgs/./IMG_20181123_111414.jpg', '/content/imgs/./IMG_20181123_115953.jpg', '/content/imgs/./IMG_20181123_113109.jpg', '/content/imgs/./IMG_20181123_113254.jpg', '/content/imgs/./IMG_20181123_113119.jpg', '/content/imgs/./IMG_20181123_112017.jpg', '/content/imgs/./IMG_20181123_111350.jpg', '/content/imgs/./IMG_20181123_114401.jpg', '/content/imgs/./IMG_20181123_111347.jpg', '/content/imgs/./IMG_20181123_112909.jpg', '/content/imgs/./IMG_20181123_114341.jpg']\n",
            " 0 :  0 seconds"
          ],
          "name": "stdout"
        },
        {
          "output_type": "error",
          "ename": "RuntimeError",
          "evalue": "ignored",
          "traceback": [
            "\u001b[0;31m---------------------------------------------------------------------------\u001b[0m",
            "\u001b[0;31mRuntimeError\u001b[0m                              Traceback (most recent call last)",
            "\u001b[0;32m<ipython-input-13-2ff069b2df51>\u001b[0m in \u001b[0;36m<module>\u001b[0;34m()\u001b[0m\n\u001b[1;32m     37\u001b[0m           \u001b[0mmaxshape\u001b[0m\u001b[0;34m=\u001b[0m\u001b[0;34m(\u001b[0m\u001b[0mHEIGHT\u001b[0m\u001b[0;34m,\u001b[0m \u001b[0mWIDTH\u001b[0m\u001b[0;34m,\u001b[0m \u001b[0mCHANNELS\u001b[0m\u001b[0;34m)\u001b[0m\u001b[0;34m,\u001b[0m\u001b[0;34m\u001b[0m\u001b[0;34m\u001b[0m\u001b[0m\n\u001b[1;32m     38\u001b[0m           \u001b[0mcompression\u001b[0m\u001b[0;34m=\u001b[0m\u001b[0;34m\"gzip\"\u001b[0m\u001b[0;34m,\u001b[0m\u001b[0;34m\u001b[0m\u001b[0;34m\u001b[0m\u001b[0m\n\u001b[0;32m---> 39\u001b[0;31m           compression_opts=9)\n\u001b[0m\u001b[1;32m     40\u001b[0m       \u001b[0mend\u001b[0m\u001b[0;34m=\u001b[0m\u001b[0mdt\u001b[0m\u001b[0;34m.\u001b[0m\u001b[0mdatetime\u001b[0m\u001b[0;34m.\u001b[0m\u001b[0mnow\u001b[0m\u001b[0;34m(\u001b[0m\u001b[0;34m)\u001b[0m\u001b[0;34m\u001b[0m\u001b[0;34m\u001b[0m\u001b[0m\n\u001b[1;32m     41\u001b[0m       \u001b[0mprint\u001b[0m\u001b[0;34m(\u001b[0m\u001b[0;34m\"\\r\"\u001b[0m\u001b[0;34m,\u001b[0m \u001b[0mi\u001b[0m\u001b[0;34m,\u001b[0m \u001b[0;34m\": \"\u001b[0m\u001b[0;34m,\u001b[0m \u001b[0;34m(\u001b[0m\u001b[0mend\u001b[0m\u001b[0;34m-\u001b[0m\u001b[0mstart\u001b[0m\u001b[0;34m)\u001b[0m\u001b[0;34m.\u001b[0m\u001b[0mseconds\u001b[0m\u001b[0;34m,\u001b[0m \u001b[0;34m\"seconds\"\u001b[0m\u001b[0;34m,\u001b[0m \u001b[0mend\u001b[0m\u001b[0;34m=\u001b[0m\u001b[0;34m\"\"\u001b[0m\u001b[0;34m)\u001b[0m\u001b[0;34m\u001b[0m\u001b[0;34m\u001b[0m\u001b[0m\n",
            "\u001b[0;32m/usr/local/lib/python3.6/dist-packages/h5py/_hl/group.py\u001b[0m in \u001b[0;36mcreate_dataset\u001b[0;34m(self, name, shape, dtype, data, **kwds)\u001b[0m\n\u001b[1;32m    117\u001b[0m             \u001b[0mdset\u001b[0m \u001b[0;34m=\u001b[0m \u001b[0mdataset\u001b[0m\u001b[0;34m.\u001b[0m\u001b[0mDataset\u001b[0m\u001b[0;34m(\u001b[0m\u001b[0mdsid\u001b[0m\u001b[0;34m)\u001b[0m\u001b[0;34m\u001b[0m\u001b[0;34m\u001b[0m\u001b[0m\n\u001b[1;32m    118\u001b[0m             \u001b[0;32mif\u001b[0m \u001b[0mname\u001b[0m \u001b[0;32mis\u001b[0m \u001b[0;32mnot\u001b[0m \u001b[0;32mNone\u001b[0m\u001b[0;34m:\u001b[0m\u001b[0;34m\u001b[0m\u001b[0;34m\u001b[0m\u001b[0m\n\u001b[0;32m--> 119\u001b[0;31m                 \u001b[0mself\u001b[0m\u001b[0;34m[\u001b[0m\u001b[0mname\u001b[0m\u001b[0;34m]\u001b[0m \u001b[0;34m=\u001b[0m \u001b[0mdset\u001b[0m\u001b[0;34m\u001b[0m\u001b[0;34m\u001b[0m\u001b[0m\n\u001b[0m\u001b[1;32m    120\u001b[0m             \u001b[0;32mreturn\u001b[0m \u001b[0mdset\u001b[0m\u001b[0;34m\u001b[0m\u001b[0;34m\u001b[0m\u001b[0m\n\u001b[1;32m    121\u001b[0m \u001b[0;34m\u001b[0m\u001b[0m\n",
            "\u001b[0;32m/usr/local/lib/python3.6/dist-packages/h5py/_hl/group.py\u001b[0m in \u001b[0;36m__setitem__\u001b[0;34m(self, name, obj)\u001b[0m\n\u001b[1;32m    285\u001b[0m \u001b[0;34m\u001b[0m\u001b[0m\n\u001b[1;32m    286\u001b[0m             \u001b[0;32mif\u001b[0m \u001b[0misinstance\u001b[0m\u001b[0;34m(\u001b[0m\u001b[0mobj\u001b[0m\u001b[0;34m,\u001b[0m \u001b[0mHLObject\u001b[0m\u001b[0;34m)\u001b[0m\u001b[0;34m:\u001b[0m\u001b[0;34m\u001b[0m\u001b[0;34m\u001b[0m\u001b[0m\n\u001b[0;32m--> 287\u001b[0;31m                 \u001b[0mh5o\u001b[0m\u001b[0;34m.\u001b[0m\u001b[0mlink\u001b[0m\u001b[0;34m(\u001b[0m\u001b[0mobj\u001b[0m\u001b[0;34m.\u001b[0m\u001b[0mid\u001b[0m\u001b[0;34m,\u001b[0m \u001b[0mself\u001b[0m\u001b[0;34m.\u001b[0m\u001b[0mid\u001b[0m\u001b[0;34m,\u001b[0m \u001b[0mname\u001b[0m\u001b[0;34m,\u001b[0m \u001b[0mlcpl\u001b[0m\u001b[0;34m=\u001b[0m\u001b[0mlcpl\u001b[0m\u001b[0;34m,\u001b[0m \u001b[0mlapl\u001b[0m\u001b[0;34m=\u001b[0m\u001b[0mself\u001b[0m\u001b[0;34m.\u001b[0m\u001b[0m_lapl\u001b[0m\u001b[0;34m)\u001b[0m\u001b[0;34m\u001b[0m\u001b[0;34m\u001b[0m\u001b[0m\n\u001b[0m\u001b[1;32m    288\u001b[0m \u001b[0;34m\u001b[0m\u001b[0m\n\u001b[1;32m    289\u001b[0m             \u001b[0;32melif\u001b[0m \u001b[0misinstance\u001b[0m\u001b[0;34m(\u001b[0m\u001b[0mobj\u001b[0m\u001b[0;34m,\u001b[0m \u001b[0mSoftLink\u001b[0m\u001b[0;34m)\u001b[0m\u001b[0;34m:\u001b[0m\u001b[0;34m\u001b[0m\u001b[0;34m\u001b[0m\u001b[0m\n",
            "\u001b[0;32mh5py/_objects.pyx\u001b[0m in \u001b[0;36mh5py._objects.with_phil.wrapper\u001b[0;34m()\u001b[0m\n",
            "\u001b[0;32mh5py/_objects.pyx\u001b[0m in \u001b[0;36mh5py._objects.with_phil.wrapper\u001b[0;34m()\u001b[0m\n",
            "\u001b[0;32mh5py/h5o.pyx\u001b[0m in \u001b[0;36mh5py.h5o.link\u001b[0;34m()\u001b[0m\n",
            "\u001b[0;31mRuntimeError\u001b[0m: Unable to create link (name already exists)"
          ]
        }
      ]
    },
    {
      "cell_type": "code",
      "metadata": {
        "id": "eQCu_SWAfmeI",
        "colab_type": "code",
        "outputId": "eabe3fe3-f084-42ed-ea3a-d124f80732f4",
        "colab": {
          "base_uri": "https://localhost:8080/",
          "height": 470
        }
      },
      "source": [
        "#!rm data.h5\n",
        "proc_images()\n"
      ],
      "execution_count": 6,
      "outputs": [
        {
          "output_type": "stream",
          "text": [
            "['/content/imgs/./IMG_20181123_113631.jpg', '/content/imgs/./IMG_20181123_113636.jpg', '/content/imgs/./IMG_20181123_113813.jpg', '/content/imgs/./IMG_20181123_113257.jpg', '/content/imgs/./IMG_20181123_113634.jpg', '/content/imgs/./IMG_20181123_113759.jpg', '/content/imgs/./IMG_20181123_113625.jpg', '/content/imgs/./IMG_20181123_114700.jpg', '/content/imgs/./IMG_20181123_113745.jpg', '/content/imgs/./IMG_20181123_113754.jpg', '/content/imgs/./IMG_20181123_110909.jpg', '/content/imgs/./IMG_20181123_112920.jpg', '/content/imgs/./IMG_20181123_112001.jpg', '/content/imgs/./IMG_20181123_113105.jpg', '/content/imgs/./IMG_20181123_114344.jpg', '/content/imgs/./IMG_20181123_113250.jpg', '/content/imgs/./IMG_20181123_114346.jpg', '/content/imgs/./IMG_20181123_113748.jpg', '/content/imgs/./IMG_20181123_114353.jpg', '/content/imgs/./IMG_20181123_114348.jpg', '/content/imgs/./IMG_20181123_114709.jpg', '/content/imgs/./IMG_20181123_114705.jpg', '/content/imgs/./IMG_20181123_113258.jpg', '/content/imgs/./IMG_20181123_113252.jpg', '/content/imgs/./IMG_20181123_113121.jpg', '/content/imgs/./IMG_20181123_112922.jpg', '/content/imgs/./IMG_20181123_112022.jpg', '/content/imgs/./IMG_20181123_114350.jpg', '/content/imgs/./IMG_20181123_115354.jpg', '/content/imgs/./IMG_20181123_111419.jpg', '/content/imgs/./IMG_20181123_112912.jpg', '/content/imgs/./IMG_20181123_113630.jpg', '/content/imgs/./IMG_20181123_113641.jpg', '/content/imgs/./IMG_20181123_113756.jpg', '/content/imgs/./IMG_20181123_112010.jpg', '/content/imgs/./IMG_20181123_111358.jpg', '/content/imgs/./IMG_20181123_112014.jpg', '/content/imgs/./IMG_20181123_112921.jpg', '/content/imgs/./IMG_20181123_113112.jpg', '/content/imgs/./IMG_20181123_112924.jpg', '/content/imgs/./IMG_20181123_113116.jpg', '/content/imgs/./IMG_20181123_111353.jpg', '/content/imgs/./IMG_20181123_114703.jpg', '/content/imgs/./IMG_20181123_114712.jpg', '/content/imgs/./IMG_20181123_113627.jpg', '/content/imgs/./IMG_20181123_112005.jpg', '/content/imgs/./IMG_20181123_112915.jpg', '/content/imgs/./IMG_20181123_112008.jpg', '/content/imgs/./IMG_20181123_112028.jpg', '/content/imgs/./IMG_20181123_114707.jpg', '/content/imgs/./IMG_20181123_113301.jpg', '/content/imgs/./IMG_20181123_113751.jpg', '/content/imgs/./IMG_20181123_111408.jpg', '/content/imgs/./IMG_20181123_111414.jpg', '/content/imgs/./IMG_20181123_115953.jpg', '/content/imgs/./IMG_20181123_113109.jpg', '/content/imgs/./IMG_20181123_113254.jpg', '/content/imgs/./IMG_20181123_113119.jpg', '/content/imgs/./IMG_20181123_112017.jpg', '/content/imgs/./IMG_20181123_111350.jpg', '/content/imgs/./IMG_20181123_114401.jpg', '/content/imgs/./IMG_20181123_111347.jpg', '/content/imgs/./IMG_20181123_112909.jpg', '/content/imgs/./IMG_20181123_114341.jpg']\n",
            " 0 :  0 seconds"
          ],
          "name": "stdout"
        },
        {
          "output_type": "error",
          "ename": "RuntimeError",
          "evalue": "ignored",
          "traceback": [
            "\u001b[0;31m---------------------------------------------------------------------------\u001b[0m",
            "\u001b[0;31mRuntimeError\u001b[0m                              Traceback (most recent call last)",
            "\u001b[0;32m<ipython-input-6-7eb0b33dcfb3>\u001b[0m in \u001b[0;36m<module>\u001b[0;34m()\u001b[0m\n\u001b[0;32m----> 1\u001b[0;31m \u001b[0mproc_images\u001b[0m\u001b[0;34m(\u001b[0m\u001b[0;34m)\u001b[0m\u001b[0;34m\u001b[0m\u001b[0;34m\u001b[0m\u001b[0m\n\u001b[0m",
            "\u001b[0;32m<ipython-input-5-5f2638c5928e>\u001b[0m in \u001b[0;36mproc_images\u001b[0;34m()\u001b[0m\n\u001b[1;32m     36\u001b[0m               \u001b[0mmaxshape\u001b[0m\u001b[0;34m=\u001b[0m\u001b[0;34m(\u001b[0m\u001b[0mHEIGHT\u001b[0m\u001b[0;34m,\u001b[0m \u001b[0mWIDTH\u001b[0m\u001b[0;34m,\u001b[0m \u001b[0mCHANNELS\u001b[0m\u001b[0;34m)\u001b[0m\u001b[0;34m,\u001b[0m\u001b[0;34m\u001b[0m\u001b[0;34m\u001b[0m\u001b[0m\n\u001b[1;32m     37\u001b[0m               \u001b[0mcompression\u001b[0m\u001b[0;34m=\u001b[0m\u001b[0;34m\"gzip\"\u001b[0m\u001b[0;34m,\u001b[0m\u001b[0;34m\u001b[0m\u001b[0;34m\u001b[0m\u001b[0m\n\u001b[0;32m---> 38\u001b[0;31m               compression_opts=9)\n\u001b[0m\u001b[1;32m     39\u001b[0m           \u001b[0mend\u001b[0m\u001b[0;34m=\u001b[0m\u001b[0mdt\u001b[0m\u001b[0;34m.\u001b[0m\u001b[0mdatetime\u001b[0m\u001b[0;34m.\u001b[0m\u001b[0mnow\u001b[0m\u001b[0;34m(\u001b[0m\u001b[0;34m)\u001b[0m\u001b[0;34m\u001b[0m\u001b[0;34m\u001b[0m\u001b[0m\n\u001b[1;32m     40\u001b[0m           \u001b[0mprint\u001b[0m\u001b[0;34m(\u001b[0m\u001b[0;34m\"\\r\"\u001b[0m\u001b[0;34m,\u001b[0m \u001b[0mi\u001b[0m\u001b[0;34m,\u001b[0m \u001b[0;34m\": \"\u001b[0m\u001b[0;34m,\u001b[0m \u001b[0;34m(\u001b[0m\u001b[0mend\u001b[0m\u001b[0;34m-\u001b[0m\u001b[0mstart\u001b[0m\u001b[0;34m)\u001b[0m\u001b[0;34m.\u001b[0m\u001b[0mseconds\u001b[0m\u001b[0;34m,\u001b[0m \u001b[0;34m\"seconds\"\u001b[0m\u001b[0;34m,\u001b[0m \u001b[0mend\u001b[0m\u001b[0;34m=\u001b[0m\u001b[0;34m\"\"\u001b[0m\u001b[0;34m)\u001b[0m\u001b[0;34m\u001b[0m\u001b[0;34m\u001b[0m\u001b[0m\n",
            "\u001b[0;32m/usr/local/lib/python3.6/dist-packages/h5py/_hl/group.py\u001b[0m in \u001b[0;36mcreate_dataset\u001b[0;34m(self, name, shape, dtype, data, **kwds)\u001b[0m\n\u001b[1;32m    117\u001b[0m             \u001b[0mdset\u001b[0m \u001b[0;34m=\u001b[0m \u001b[0mdataset\u001b[0m\u001b[0;34m.\u001b[0m\u001b[0mDataset\u001b[0m\u001b[0;34m(\u001b[0m\u001b[0mdsid\u001b[0m\u001b[0;34m)\u001b[0m\u001b[0;34m\u001b[0m\u001b[0;34m\u001b[0m\u001b[0m\n\u001b[1;32m    118\u001b[0m             \u001b[0;32mif\u001b[0m \u001b[0mname\u001b[0m \u001b[0;32mis\u001b[0m \u001b[0;32mnot\u001b[0m \u001b[0;32mNone\u001b[0m\u001b[0;34m:\u001b[0m\u001b[0;34m\u001b[0m\u001b[0;34m\u001b[0m\u001b[0m\n\u001b[0;32m--> 119\u001b[0;31m                 \u001b[0mself\u001b[0m\u001b[0;34m[\u001b[0m\u001b[0mname\u001b[0m\u001b[0;34m]\u001b[0m \u001b[0;34m=\u001b[0m \u001b[0mdset\u001b[0m\u001b[0;34m\u001b[0m\u001b[0;34m\u001b[0m\u001b[0m\n\u001b[0m\u001b[1;32m    120\u001b[0m             \u001b[0;32mreturn\u001b[0m \u001b[0mdset\u001b[0m\u001b[0;34m\u001b[0m\u001b[0;34m\u001b[0m\u001b[0m\n\u001b[1;32m    121\u001b[0m \u001b[0;34m\u001b[0m\u001b[0m\n",
            "\u001b[0;32m/usr/local/lib/python3.6/dist-packages/h5py/_hl/group.py\u001b[0m in \u001b[0;36m__setitem__\u001b[0;34m(self, name, obj)\u001b[0m\n\u001b[1;32m    285\u001b[0m \u001b[0;34m\u001b[0m\u001b[0m\n\u001b[1;32m    286\u001b[0m             \u001b[0;32mif\u001b[0m \u001b[0misinstance\u001b[0m\u001b[0;34m(\u001b[0m\u001b[0mobj\u001b[0m\u001b[0;34m,\u001b[0m \u001b[0mHLObject\u001b[0m\u001b[0;34m)\u001b[0m\u001b[0;34m:\u001b[0m\u001b[0;34m\u001b[0m\u001b[0;34m\u001b[0m\u001b[0m\n\u001b[0;32m--> 287\u001b[0;31m                 \u001b[0mh5o\u001b[0m\u001b[0;34m.\u001b[0m\u001b[0mlink\u001b[0m\u001b[0;34m(\u001b[0m\u001b[0mobj\u001b[0m\u001b[0;34m.\u001b[0m\u001b[0mid\u001b[0m\u001b[0;34m,\u001b[0m \u001b[0mself\u001b[0m\u001b[0;34m.\u001b[0m\u001b[0mid\u001b[0m\u001b[0;34m,\u001b[0m \u001b[0mname\u001b[0m\u001b[0;34m,\u001b[0m \u001b[0mlcpl\u001b[0m\u001b[0;34m=\u001b[0m\u001b[0mlcpl\u001b[0m\u001b[0;34m,\u001b[0m \u001b[0mlapl\u001b[0m\u001b[0;34m=\u001b[0m\u001b[0mself\u001b[0m\u001b[0;34m.\u001b[0m\u001b[0m_lapl\u001b[0m\u001b[0;34m)\u001b[0m\u001b[0;34m\u001b[0m\u001b[0;34m\u001b[0m\u001b[0m\n\u001b[0m\u001b[1;32m    288\u001b[0m \u001b[0;34m\u001b[0m\u001b[0m\n\u001b[1;32m    289\u001b[0m             \u001b[0;32melif\u001b[0m \u001b[0misinstance\u001b[0m\u001b[0;34m(\u001b[0m\u001b[0mobj\u001b[0m\u001b[0;34m,\u001b[0m \u001b[0mSoftLink\u001b[0m\u001b[0;34m)\u001b[0m\u001b[0;34m:\u001b[0m\u001b[0;34m\u001b[0m\u001b[0;34m\u001b[0m\u001b[0m\n",
            "\u001b[0;32mh5py/_objects.pyx\u001b[0m in \u001b[0;36mh5py._objects.with_phil.wrapper\u001b[0;34m()\u001b[0m\n",
            "\u001b[0;32mh5py/_objects.pyx\u001b[0m in \u001b[0;36mh5py._objects.with_phil.wrapper\u001b[0;34m()\u001b[0m\n",
            "\u001b[0;32mh5py/h5o.pyx\u001b[0m in \u001b[0;36mh5py.h5o.link\u001b[0;34m()\u001b[0m\n",
            "\u001b[0;31mRuntimeError\u001b[0m: Unable to create link (name already exists)"
          ]
        }
      ]
    },
    {
      "cell_type": "markdown",
      "metadata": {
        "id": "a_jf_qp_VJth",
        "colab_type": "text"
      },
      "source": [
        "# Use the images to find **circles**"
      ]
    },
    {
      "cell_type": "code",
      "metadata": {
        "id": "dn15boW46TqR",
        "colab_type": "code",
        "colab": {}
      },
      "source": [
        "import numpy as np\n",
        "import matplotlib.pyplot as plt\n",
        "\n",
        "import os\n",
        "from skimage import data, color, io\n",
        "from skimage.transform import hough_circle, hough_circle_peaks\n",
        "from skimage.feature import canny\n",
        "from skimage.draw import circle_perimeter, rectangle_perimeter\n",
        "from skimage.util import img_as_ubyte\n"
      ],
      "execution_count": 0,
      "outputs": []
    },
    {
      "cell_type": "code",
      "metadata": {
        "id": "gBAOND_clA3B",
        "colab_type": "code",
        "colab": {}
      },
      "source": [
        "\n",
        "\n",
        "# Load picture and detect edges\n",
        "filename = \"/content/imgs/IMG_20181123_113634.jpg\"\n",
        "coins = io.imread(filename)\n",
        "gray_coins = color.rgb2gray(coins)\n",
        "edges = canny(gray_coins)\n",
        "plt.imshow(edges)\n",
        "\n"
      ],
      "execution_count": 0,
      "outputs": []
    },
    {
      "cell_type": "code",
      "metadata": {
        "id": "PxAPKXJqsMnA",
        "colab_type": "code",
        "colab": {}
      },
      "source": [
        "#Detect two radii\n",
        "hough_radii = np.arange(100, 180, 2)\n",
        "hough_res = hough_circle(edges, hough_radii)\n",
        "print(\"hough_res: \" , hough_res.shape)"
      ],
      "execution_count": 0,
      "outputs": []
    },
    {
      "cell_type": "code",
      "metadata": {
        "id": "qHzXJDEesCF0",
        "colab_type": "code",
        "colab": {}
      },
      "source": [
        "a, cx, cy, radii = hough_circle_peaks(hough_res, hough_radii, total_num_peaks=1000)\n",
        "#print(peaks)"
      ],
      "execution_count": 0,
      "outputs": []
    },
    {
      "cell_type": "code",
      "metadata": {
        "id": "ADR8hgA-o8pD",
        "colab_type": "code",
        "colab": {}
      },
      "source": [
        "\n",
        "print (radii.min())\n",
        "print (radii.max())\n",
        "fig, ax = plt.subplots(ncols=1, nrows=1, figsize=(10, 4))\n",
        "coins = color.gray2rgb(coins)\n",
        "for center_y, center_x, radius in zip(cy, cx, radii):\n",
        "    circy, circx = circle_perimeter(center_y, center_x, radius, shape=coins.shape)\n",
        "    coins[circy, circx] = (220, 20, 20)\n",
        "\n",
        "ax.imshow(coins, cmap=plt.cm.gray)\n",
        "plt.show()"
      ],
      "execution_count": 0,
      "outputs": []
    },
    {
      "cell_type": "code",
      "metadata": {
        "id": "f-e_2ulfYMY8",
        "colab_type": "code",
        "colab": {}
      },
      "source": [
        "# get image \n",
        "\n",
        "\n",
        "filename = \"/content/imgs/IMG_20181123_113636.jpg\"\n",
        "image_coins = io.imread(filename)\n",
        "#image_coins.shape\n",
        "#image_coins[50:500, 150:2000].shape\n",
        "crop_coins = image_coins[750:3400, 750:3000]\n",
        "coins = crop_coins\n",
        "plt.imshow(crop_coins)"
      ],
      "execution_count": 0,
      "outputs": []
    },
    {
      "cell_type": "code",
      "metadata": {
        "id": "VR7GvSRd9FI6",
        "colab_type": "code",
        "colab": {}
      },
      "source": [
        "gray_coins = color.rgb2gray(crop_coins)\n",
        "edges = canny(gray_coins)\n",
        "plt.imshow(edges)\n"
      ],
      "execution_count": 0,
      "outputs": []
    },
    {
      "cell_type": "code",
      "metadata": {
        "id": "ZMrIJXAj9bUY",
        "colab_type": "code",
        "colab": {}
      },
      "source": [
        "#Detect two radii\n",
        "hough_radii = np.arange(80, 180, 6)\n",
        "hough_res = hough_circle(edges, hough_radii)\n",
        "print(\"hough_res: \" , hough_res.shape)\n"
      ],
      "execution_count": 0,
      "outputs": []
    },
    {
      "cell_type": "code",
      "metadata": {
        "id": "D4_jEd369wR5",
        "colab_type": "code",
        "colab": {}
      },
      "source": [
        "a, cx, cy, radii = hough_circle_peaks(hough_res, hough_radii, total_num_peaks=25)\n",
        "#print(peaks)"
      ],
      "execution_count": 0,
      "outputs": []
    },
    {
      "cell_type": "code",
      "metadata": {
        "id": "_29i1Zgz9xxj",
        "colab_type": "code",
        "colab": {}
      },
      "source": [
        "print (radii.min())\n",
        "print (radii.max())\n",
        "fig, ax = plt.subplots(ncols=1, nrows=1, figsize=(20, 8))\n",
        "coins = color.gray2rgb(coins)\n",
        "for center_y, center_x, radius in zip(cy, cx, radii):\n",
        "    circy, circx = circle_perimeter(center_y, center_x, radius, shape=coins.shape)\n",
        "    coins[circy, circx] = (220, 20, 20)\n",
        "    #print(\"circ: {0} {1}\".format(center_x, center_y, radius))\n",
        "\n",
        "\n",
        "ax.imshow(coins, cmap=plt.cm.gray)\n",
        "plt.show()"
      ],
      "execution_count": 0,
      "outputs": []
    },
    {
      "cell_type": "code",
      "metadata": {
        "id": "u0Dlf7a_apmh",
        "colab_type": "code",
        "colab": {}
      },
      "source": [
        "for center_y, center_x, radius in zip(cy, cx, radii):\n",
        "  tly = center_y-radius\n",
        "  tlx = center_x-radius\n",
        "  bry = center_y+radius\n",
        "  brx = center_x+radius\n",
        "  print (\"tly: {0} tlx{1}\".format(tly,tlx))\n",
        "  print (\"bry: {0} brx{1}\".format(bry,brx))\n",
        "  img = coins[tly:bry, tlx:brx]\n",
        "  plt.imshow(img)\n"
      ],
      "execution_count": 0,
      "outputs": []
    },
    {
      "cell_type": "code",
      "metadata": {
        "id": "OW45gXh-_sAv",
        "colab_type": "code",
        "colab": {}
      },
      "source": [
        "plots = np.arange(0, 25)\n",
        "nrows = 5\n",
        "ncols = int(len(plots)//nrows)\n",
        "print(ncols)\n",
        "\n",
        "fig, ax2d = plt.subplots(nrows,ncols)\n",
        "axarr = np.ravel(ax2d)\n",
        "\n",
        "for count, (center_y, center_x, radius) in enumerate(zip(cy, cx, radii)):\n",
        "  tly = center_y-radius\n",
        "  tlx = center_x-radius\n",
        "  bry = center_y+radius\n",
        "  brx = center_x+radius\n",
        "  #print (\"tly: {0} tlx{1}\".format(tly,tlx))\n",
        "  #print (\"bry: {0} brx{1}\".format(bry,brx))\n",
        "  img = coins[tly:bry, tlx:brx]\n",
        "  axarr[count].imshow(img)\n",
        "plt.show()"
      ],
      "execution_count": 0,
      "outputs": []
    },
    {
      "cell_type": "markdown",
      "metadata": {
        "id": "jYBFT3FZr_T7",
        "colab_type": "text"
      },
      "source": [
        "# use data.h5 as the image source instead of the original"
      ]
    },
    {
      "cell_type": "code",
      "metadata": {
        "id": "lWvBWTYYsQlP",
        "colab_type": "code",
        "colab": {}
      },
      "source": [
        "# h5py examples: https://www.christopherlovell.co.uk/blog/2016/04/27/h5py-intro.html\n",
        "# http://docs.h5py.org/en/stable/quick.html\n",
        "\n",
        "hf = h5py.File('data.h5', 'r')\n",
        "print(list(hf.keys()))\n",
        "print(hf['X1'][0][1])\n",
        "#print(hf['y61'][0])\n",
        "#n1 = hf.get('')\n",
        "#print(n1)\n",
        "plb.imshow(hf[\"X1\"])\n",
        "print(hf[\"y1\"].value)"
      ],
      "execution_count": 0,
      "outputs": []
    }
  ]
}